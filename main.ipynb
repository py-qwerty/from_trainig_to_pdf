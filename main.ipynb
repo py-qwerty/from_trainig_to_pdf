{
 "cells": [
  {
   "cell_type": "markdown",
   "metadata": {},
   "source": [
    "From a training plan to a pdf"
   ]
  },
  {
   "cell_type": "code",
   "execution_count": 1,
   "metadata": {},
   "outputs": [
    {
     "name": "stdout",
     "output_type": "stream",
     "text": [
      "PDF generated: calisthenics_training_plan.pdf\n"
     ]
    }
   ],
   "source": [
    "from reportlab.lib.pagesizes import A4\n",
    "from reportlab.lib import colors\n",
    "from reportlab.lib.styles import getSampleStyleSheet, ParagraphStyle\n",
    "from reportlab.platypus import SimpleDocTemplate, Paragraph, Spacer, Table, TableStyle\n",
    "\n",
    "# Define workout plan\n",
    "workout_plan = {\n",
    "    \"Day 1: Upper Body (Push Focus)\": [\n",
    "        (\"Warm-up\", \"Jumping jacks or light jogging (5 minutes)\"),\n",
    "        (\"Push-ups\", \"4 sets of 12-15 reps\"),\n",
    "        (\"Dips on Parallel Bars\", \"4 sets of 10-12 reps\"),\n",
    "        (\"Decline Push-ups\", \"3 sets of 10-12 reps\"),\n",
    "        (\"Pike Push-ups\", \"3 sets of 8-10 reps\"),\n",
    "        (\"L-Sit Hold on Bars\", \"4 sets of max hold (aim for 10-15 seconds)\"),\n",
    "    ],\n",
    "    \"Day 2: Lower Body + Core\": [\n",
    "        (\"Warm-up\", \"High knees or light jog (5 minutes)\"),\n",
    "        (\"Squats\", \"4 sets of 15-20 reps\"),\n",
    "        (\"Pistol Squat Progressions\", \"4 sets of 5-6 reps each leg\"),\n",
    "        (\"Box Jumps or Broad Jumps\", \"3 sets of 10 reps\"),\n",
    "        (\"Hanging Leg Raises\", \"4 sets of 8-10 reps\"),\n",
    "        (\"Plank\", \"4 sets of 45-60 seconds\"),\n",
    "    ],\n",
    "    \"Day 3: Upper Body (Pull Focus)\": [\n",
    "        (\"Warm-up\", \"Arm circles and band pull-aparts (5 minutes)\"),\n",
    "        (\"Pull-ups\", \"5 sets of 8-10 reps\"),\n",
    "        (\"Australian Rows\", \"4 sets of 12-15 reps\"),\n",
    "        (\"Chin-ups\", \"3 sets of 6-8 reps\"),\n",
    "        (\"Straight Arm Holds\", \"3 sets of 10-12 seconds\"),\n",
    "        (\"Arch Holds\", \"4 sets of 20-30 seconds\"),\n",
    "    ],\n",
    "    \"Day 4: Full Body + Skills\": [\n",
    "        (\"Warm-up\", \"Dynamic stretching (5 minutes)\"),\n",
    "        (\"Burpees\", \"3 sets of 10-12 reps\"),\n",
    "        (\"Tuck Planche Hold\", \"4 sets of max hold\"),\n",
    "        (\"Muscle-Up Practice\", \"4 sets, aim for 2-5 reps\"),\n",
    "        (\"Single-Leg Box Squats\", \"3 sets of 8 reps per leg\"),\n",
    "        (\"Core\", \"Windshield Wipers: 3 sets of 8-10 reps each side\\nRussian Twists: 3 sets of 15 reps each side\"),\n",
    "    ],\n",
    "}\n",
    "\n",
    "# Define PDF file\n",
    "file_path = \"calisthenics_training_plan.pdf\"\n",
    "pdf = SimpleDocTemplate(file_path, pagesize=A4)\n",
    "styles = getSampleStyleSheet()\n",
    "title_style = ParagraphStyle(\"Title\", fontSize=18, leading=22, alignment=1, spaceAfter=12)\n",
    "subtitle_style = ParagraphStyle(\"Subtitle\", fontSize=14, leading=18, spaceAfter=8)\n",
    "text_style = styles[\"BodyText\"]\n",
    "elements = []\n",
    "\n",
    "# Title\n",
    "elements.append(Paragraph(\"Calisthenics Training Plan\", title_style))\n",
    "elements.append(Spacer(1, 12))\n",
    "\n",
    "# Generate the workout plan tables\n",
    "for day, exercises in workout_plan.items():\n",
    "    elements.append(Paragraph(day, subtitle_style))\n",
    "    table_data = [[\"Exercise\", \"Description\"]]\n",
    "    for exercise, description in exercises:\n",
    "        table_data.append([exercise, description])\n",
    "    table = Table(table_data, colWidths=[150, 300])\n",
    "    table.setStyle(TableStyle([\n",
    "        ('BACKGROUND', (0, 0), (-1, 0), colors.grey),\n",
    "        ('TEXTCOLOR', (0, 0), (-1, 0), colors.whitesmoke),\n",
    "        ('ALIGN', (0, 0), (-1, -1), 'LEFT'),\n",
    "        ('FONTNAME', (0, 0), (-1, 0), 'Helvetica-Bold'),\n",
    "        ('FONTSIZE', (0, 0), (-1, 0), 12),\n",
    "        ('BOTTOMPADDING', (0, 0), (-1, 0), 8),\n",
    "        ('BACKGROUND', (0, 1), (-1, -1), colors.beige),\n",
    "        ('GRID', (0, 0), (-1, -1), 0.5, colors.black),\n",
    "    ]))\n",
    "    elements.append(table)\n",
    "    elements.append(Spacer(1, 12))\n",
    "\n",
    "# Add a cool-down section\n",
    "elements.append(Paragraph(\"Cool Down (after each session)\", subtitle_style))\n",
    "cool_down_text = \"Stretch the major muscle groups, especially shoulders, back, legs, and wrists.\"\n",
    "elements.append(Paragraph(cool_down_text, text_style))\n",
    "\n",
    "# Build PDF\n",
    "pdf.build(elements)\n",
    "print(f\"PDF generated: {file_path}\")\n"
   ]
  }
 ],
 "metadata": {
  "kernelspec": {
   "display_name": "env",
   "language": "python",
   "name": "python3"
  },
  "language_info": {
   "codemirror_mode": {
    "name": "ipython",
    "version": 3
   },
   "file_extension": ".py",
   "mimetype": "text/x-python",
   "name": "python",
   "nbconvert_exporter": "python",
   "pygments_lexer": "ipython3",
   "version": "3.11.9"
  }
 },
 "nbformat": 4,
 "nbformat_minor": 2
}
